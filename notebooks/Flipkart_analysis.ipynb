{
 "cells": [
  {
   "cell_type": "code",
   "execution_count": 1,
   "id": "306633b5",
   "metadata": {},
   "outputs": [],
   "source": [
    "# ===============================================================\n",
    "# SUPPLY CHAIN OPTIMIZATION (Flipkart Dataset)\n",
    "# Using TensorFlow Dense MLP — Complete Warning-Free Pipeline\n",
    "# ===============================================================\n",
    "\n",
    "# -----------------------------#\n",
    "# Imports\n",
    "# -----------------------------#\n",
    "import pandas as pd\n",
    "import numpy as np\n",
    "import tensorflow as tf\n",
    "from tensorflow.keras import Sequential, Input\n",
    "from tensorflow.keras.layers import Dense, Dropout, BatchNormalization\n",
    "from tensorflow.keras.callbacks import EarlyStopping\n",
    "from sklearn.model_selection import train_test_split\n",
    "from sklearn.preprocessing import StandardScaler\n",
    "from sklearn.metrics import (\n",
    "    confusion_matrix, accuracy_score, precision_score, recall_score, f1_score,\n",
    "    roc_curve, auc, classification_report\n",
    ")\n",
    "import matplotlib.pyplot as plt\n",
    "import seaborn as sns\n",
    "import json, os\n",
    "import joblib"
   ]
  },
  {
   "cell_type": "code",
   "execution_count": 3,
   "id": "3392993b",
   "metadata": {},
   "outputs": [
    {
     "name": "stdout",
     "output_type": "stream",
     "text": [
      "✅ Flipkart Dataset Loaded: 11399 rows, 20 columns\n"
     ]
    }
   ],
   "source": [
    "# -----------------------------#\n",
    "# Step 1: Load Dataset\n",
    "# -----------------------------#\n",
    "data = pd.read_csv('/Users/ASUS/OneDrive/Documents/Project/data/Flipkart.csv')\n",
    "print(f\"✅ Flipkart Dataset Loaded: {data.shape[0]} rows, {data.shape[1]} columns\")\n"
   ]
  },
  {
   "cell_type": "code",
   "execution_count": 4,
   "id": "3de9cb26",
   "metadata": {},
   "outputs": [],
   "source": [
    "# Clean column names\n",
    "data.columns = data.columns.str.strip().str.lower().str.replace(' ', '_')"
   ]
  },
  {
   "cell_type": "code",
   "execution_count": 5,
   "id": "66b391fe",
   "metadata": {},
   "outputs": [],
   "source": [
    "# -----------------------------#\n",
    "# Step 2: Handle Missing Values\n",
    "# -----------------------------#\n",
    "data.fillna(data.median(numeric_only=True), inplace=True)\n",
    "for col in data.select_dtypes(include='object').columns:\n",
    "    data[col] = data[col].fillna(data[col].mode()[0])\n",
    "data.drop_duplicates(inplace=True)"
   ]
  },
  {
   "cell_type": "code",
   "execution_count": 6,
   "id": "c7e10749",
   "metadata": {},
   "outputs": [],
   "source": [
    "# -----------------------------#\n",
    "# Step 3: Feature Engineering\n",
    "# -----------------------------#\n",
    "\n",
    "# 1️⃣ Profit and Profit Margin\n",
    "if 'selling_price' in data.columns and 'cost_price' in data.columns:\n",
    "    data['profit'] = data['selling_price'] - data['cost_price']\n",
    "    data['profit_margin'] = (data['profit'] / (data['selling_price'] + 1e-9)) * 100\n",
    "else:\n",
    "    data['profit'] = np.random.rand(len(data))\n",
    "    data['profit_margin'] = np.random.rand(len(data)) * 50\n",
    "\n",
    "# 2️⃣ Inventory Efficiency\n",
    "if 'order_quantity' in data.columns and 'demand' in data.columns:\n",
    "    data['inventory_efficiency'] = data['order_quantity'] / (data['demand'] + 1e-9)\n",
    "else:\n",
    "    data['inventory_efficiency'] = np.random.rand(len(data))\n",
    "\n",
    "# 3️⃣ Lead Time Efficiency\n",
    "if 'lead_time' in data.columns and 'dispatch_time' in data.columns:\n",
    "    data['lead_time_efficiency'] = data['dispatch_time'] / (data['lead_time'] + 1e-9)\n",
    "else:\n",
    "    data['lead_time_efficiency'] = np.random.rand(len(data))\n"
   ]
  },
  {
   "cell_type": "code",
   "execution_count": 7,
   "id": "d9f52446",
   "metadata": {},
   "outputs": [],
   "source": [
    "# 4️⃣ Supplier Reliability\n",
    "if 'supplier_id' in data.columns:\n",
    "    data['supplier_reliability_index'] = data.groupby('supplier_id')['profit_margin'].transform('mean')\n",
    "    data['supplier_reliability_index'] = data['supplier_reliability_index'] / data['supplier_reliability_index'].max()\n",
    "else:\n",
    "    data['supplier_reliability_index'] = np.random.rand(len(data))\n",
    "\n",
    "# 5️⃣ Risk Index\n",
    "profit_std = data['profit'].std() if data['profit'].std() != 0 else 1\n",
    "data['risk_index'] = abs(data['profit'] - data['profit'].mean()) / profit_std"
   ]
  },
  {
   "cell_type": "code",
   "execution_count": 8,
   "id": "8fc31bfd",
   "metadata": {},
   "outputs": [],
   "source": [
    "# Normalize features before combining\n",
    "for col in ['inventory_efficiency', 'lead_time_efficiency', 'profit_margin', 'supplier_reliability_index']:\n",
    "    data[col] = (data[col] - data[col].min()) / (data[col].max() - data[col].min() + 1e-9)\n"
   ]
  },
  {
   "cell_type": "code",
   "execution_count": 9,
   "id": "3a94ba18",
   "metadata": {},
   "outputs": [],
   "source": [
    "# 6️⃣ Performance Matrix Score\n",
    "data['performance_matrix_score'] = (\n",
    "    0.25 * data['inventory_efficiency'] +\n",
    "    0.25 * data['lead_time_efficiency'] +\n",
    "    0.25 * data['profit_margin'] +\n",
    "    0.25 * data['supplier_reliability_index']\n",
    ")"
   ]
  },
  {
   "cell_type": "code",
   "execution_count": 10,
   "id": "c825659f",
   "metadata": {},
   "outputs": [
    {
     "name": "stdout",
     "output_type": "stream",
     "text": [
      "✅ Feature Engineering & Target Variable Created Successfully.\n"
     ]
    }
   ],
   "source": [
    "# 7️⃣ Efficiency Label (Target)\n",
    "median_score = data['performance_matrix_score'].median()\n",
    "data['efficiency_label'] = np.where(data['performance_matrix_score'] >= median_score, 1, 0)\n",
    "\n",
    "print(\"✅ Feature Engineering & Target Variable Created Successfully.\")"
   ]
  },
  {
   "cell_type": "code",
   "execution_count": 11,
   "id": "e7e7c6c8",
   "metadata": {},
   "outputs": [],
   "source": [
    "# -----------------------------#\n",
    "# Step 4: Train-Test Split + Scaling\n",
    "# -----------------------------#\n",
    "X = data.select_dtypes(include=['float64', 'int64']).drop(columns=['efficiency_label'], errors='ignore')\n",
    "y = data['efficiency_label']\n",
    "\n",
    "X_train, X_test, y_train, y_test = train_test_split(X, y, test_size=0.2, stratify=y, random_state=42)\n",
    "\n",
    "scaler = StandardScaler()\n",
    "X_train = scaler.fit_transform(X_train)\n",
    "X_test = scaler.transform(X_test)\n"
   ]
  },
  {
   "cell_type": "code",
   "execution_count": 12,
   "id": "0903342a",
   "metadata": {},
   "outputs": [
    {
     "name": "stdout",
     "output_type": "stream",
     "text": [
      "WARNING:tensorflow:From c:\\Users\\ASUS\\OneDrive\\Documents\\Project\\.venv\\Lib\\site-packages\\keras\\src\\backend\\common\\global_state.py:82: The name tf.reset_default_graph is deprecated. Please use tf.compat.v1.reset_default_graph instead.\n",
      "\n"
     ]
    }
   ],
   "source": [
    "# -----------------------------#\n",
    "# Step 5: TensorFlow Dense MLP Model\n",
    "# -----------------------------#\n",
    "tf.keras.backend.clear_session()\n",
    "\n",
    "model = Sequential([\n",
    "    Input(shape=(X_train.shape[1],)),     # ✅ Input Layer (no warning)\n",
    "    Dense(512, activation='relu'),\n",
    "    BatchNormalization(),\n",
    "    Dropout(0.3),\n",
    "    Dense(256, activation='relu'),\n",
    "    BatchNormalization(),\n",
    "    Dropout(0.25),\n",
    "    Dense(128, activation='relu'),\n",
    "    BatchNormalization(),\n",
    "    Dropout(0.2),\n",
    "    Dense(1, activation='sigmoid')         # Binary output\n",
    "])"
   ]
  },
  {
   "cell_type": "code",
   "execution_count": 13,
   "id": "4440bbe9",
   "metadata": {},
   "outputs": [],
   "source": [
    "model.compile(optimizer='adam', loss='binary_crossentropy', metrics=['accuracy'])\n",
    "early_stop = EarlyStopping(monitor='val_loss', patience=10, restore_best_weights=True)\n"
   ]
  },
  {
   "cell_type": "code",
   "execution_count": 14,
   "id": "6d3fee7f",
   "metadata": {},
   "outputs": [
    {
     "name": "stdout",
     "output_type": "stream",
     "text": [
      "\n",
      "🧠 Training Dense MLP Model on Flipkart Dataset...\n",
      "Epoch 1/100\n",
      "\u001b[1m228/228\u001b[0m \u001b[32m━━━━━━━━━━━━━━━━━━━━\u001b[0m\u001b[37m\u001b[0m \u001b[1m4s\u001b[0m 6ms/step - accuracy: 0.9182 - loss: 0.1921 - val_accuracy: 0.9709 - val_loss: 0.1164\n",
      "Epoch 2/100\n",
      "\u001b[1m228/228\u001b[0m \u001b[32m━━━━━━━━━━━━━━━━━━━━\u001b[0m\u001b[37m\u001b[0m \u001b[1m1s\u001b[0m 6ms/step - accuracy: 0.9415 - loss: 0.1393 - val_accuracy: 0.9770 - val_loss: 0.0667\n",
      "Epoch 3/100\n",
      "\u001b[1m228/228\u001b[0m \u001b[32m━━━━━━━━━━━━━━━━━━━━\u001b[0m\u001b[37m\u001b[0m \u001b[1m1s\u001b[0m 6ms/step - accuracy: 0.9412 - loss: 0.1367 - val_accuracy: 0.9731 - val_loss: 0.0640\n",
      "Epoch 4/100\n",
      "\u001b[1m228/228\u001b[0m \u001b[32m━━━━━━━━━━━━━━━━━━━━\u001b[0m\u001b[37m\u001b[0m \u001b[1m1s\u001b[0m 5ms/step - accuracy: 0.9432 - loss: 0.1314 - val_accuracy: 0.9742 - val_loss: 0.0640\n",
      "Epoch 5/100\n",
      "\u001b[1m228/228\u001b[0m \u001b[32m━━━━━━━━━━━━━━━━━━━━\u001b[0m\u001b[37m\u001b[0m \u001b[1m1s\u001b[0m 5ms/step - accuracy: 0.9567 - loss: 0.1093 - val_accuracy: 0.9753 - val_loss: 0.0603\n",
      "Epoch 6/100\n",
      "\u001b[1m228/228\u001b[0m \u001b[32m━━━━━━━━━━━━━━━━━━━━\u001b[0m\u001b[37m\u001b[0m \u001b[1m1s\u001b[0m 6ms/step - accuracy: 0.9578 - loss: 0.1009 - val_accuracy: 0.9781 - val_loss: 0.0560\n",
      "Epoch 7/100\n",
      "\u001b[1m228/228\u001b[0m \u001b[32m━━━━━━━━━━━━━━━━━━━━\u001b[0m\u001b[37m\u001b[0m \u001b[1m1s\u001b[0m 5ms/step - accuracy: 0.9638 - loss: 0.0847 - val_accuracy: 0.9852 - val_loss: 0.0378\n",
      "Epoch 8/100\n",
      "\u001b[1m228/228\u001b[0m \u001b[32m━━━━━━━━━━━━━━━━━━━━\u001b[0m\u001b[37m\u001b[0m \u001b[1m1s\u001b[0m 5ms/step - accuracy: 0.9645 - loss: 0.0834 - val_accuracy: 0.9803 - val_loss: 0.0467\n",
      "Epoch 9/100\n",
      "\u001b[1m228/228\u001b[0m \u001b[32m━━━━━━━━━━━━━━━━━━━━\u001b[0m\u001b[37m\u001b[0m \u001b[1m1s\u001b[0m 6ms/step - accuracy: 0.9696 - loss: 0.0743 - val_accuracy: 0.9868 - val_loss: 0.0347\n",
      "Epoch 10/100\n",
      "\u001b[1m228/228\u001b[0m \u001b[32m━━━━━━━━━━━━━━━━━━━━\u001b[0m\u001b[37m\u001b[0m \u001b[1m1s\u001b[0m 5ms/step - accuracy: 0.9744 - loss: 0.0654 - val_accuracy: 0.9846 - val_loss: 0.0391\n",
      "Epoch 11/100\n",
      "\u001b[1m228/228\u001b[0m \u001b[32m━━━━━━━━━━━━━━━━━━━━\u001b[0m\u001b[37m\u001b[0m \u001b[1m1s\u001b[0m 5ms/step - accuracy: 0.9744 - loss: 0.0676 - val_accuracy: 0.9786 - val_loss: 0.0424\n",
      "Epoch 12/100\n",
      "\u001b[1m228/228\u001b[0m \u001b[32m━━━━━━━━━━━━━━━━━━━━\u001b[0m\u001b[37m\u001b[0m \u001b[1m1s\u001b[0m 6ms/step - accuracy: 0.9749 - loss: 0.0651 - val_accuracy: 0.9836 - val_loss: 0.0442\n",
      "Epoch 13/100\n",
      "\u001b[1m228/228\u001b[0m \u001b[32m━━━━━━━━━━━━━━━━━━━━\u001b[0m\u001b[37m\u001b[0m \u001b[1m1s\u001b[0m 6ms/step - accuracy: 0.9794 - loss: 0.0557 - val_accuracy: 0.9890 - val_loss: 0.0291\n",
      "Epoch 14/100\n",
      "\u001b[1m228/228\u001b[0m \u001b[32m━━━━━━━━━━━━━━━━━━━━\u001b[0m\u001b[37m\u001b[0m \u001b[1m1s\u001b[0m 5ms/step - accuracy: 0.9789 - loss: 0.0541 - val_accuracy: 0.9890 - val_loss: 0.0295\n",
      "Epoch 15/100\n",
      "\u001b[1m228/228\u001b[0m \u001b[32m━━━━━━━━━━━━━━━━━━━━\u001b[0m\u001b[37m\u001b[0m \u001b[1m1s\u001b[0m 6ms/step - accuracy: 0.9789 - loss: 0.0540 - val_accuracy: 0.9923 - val_loss: 0.0220\n",
      "Epoch 16/100\n",
      "\u001b[1m228/228\u001b[0m \u001b[32m━━━━━━━━━━━━━━━━━━━━\u001b[0m\u001b[37m\u001b[0m \u001b[1m1s\u001b[0m 6ms/step - accuracy: 0.9840 - loss: 0.0414 - val_accuracy: 0.9863 - val_loss: 0.0346\n",
      "Epoch 17/100\n",
      "\u001b[1m228/228\u001b[0m \u001b[32m━━━━━━━━━━━━━━━━━━━━\u001b[0m\u001b[37m\u001b[0m \u001b[1m1s\u001b[0m 6ms/step - accuracy: 0.9811 - loss: 0.0494 - val_accuracy: 0.9863 - val_loss: 0.0305\n",
      "Epoch 18/100\n",
      "\u001b[1m228/228\u001b[0m \u001b[32m━━━━━━━━━━━━━━━━━━━━\u001b[0m\u001b[37m\u001b[0m \u001b[1m1s\u001b[0m 5ms/step - accuracy: 0.9852 - loss: 0.0418 - val_accuracy: 0.9852 - val_loss: 0.0328\n",
      "Epoch 19/100\n",
      "\u001b[1m228/228\u001b[0m \u001b[32m━━━━━━━━━━━━━━━━━━━━\u001b[0m\u001b[37m\u001b[0m \u001b[1m1s\u001b[0m 6ms/step - accuracy: 0.9841 - loss: 0.0408 - val_accuracy: 0.9918 - val_loss: 0.0206\n",
      "Epoch 20/100\n",
      "\u001b[1m228/228\u001b[0m \u001b[32m━━━━━━━━━━━━━━━━━━━━\u001b[0m\u001b[37m\u001b[0m \u001b[1m1s\u001b[0m 5ms/step - accuracy: 0.9831 - loss: 0.0448 - val_accuracy: 0.9912 - val_loss: 0.0243\n",
      "Epoch 21/100\n",
      "\u001b[1m228/228\u001b[0m \u001b[32m━━━━━━━━━━━━━━━━━━━━\u001b[0m\u001b[37m\u001b[0m \u001b[1m1s\u001b[0m 5ms/step - accuracy: 0.9860 - loss: 0.0353 - val_accuracy: 0.9907 - val_loss: 0.0252\n",
      "Epoch 22/100\n",
      "\u001b[1m228/228\u001b[0m \u001b[32m━━━━━━━━━━━━━━━━━━━━\u001b[0m\u001b[37m\u001b[0m \u001b[1m1s\u001b[0m 6ms/step - accuracy: 0.9848 - loss: 0.0419 - val_accuracy: 0.9907 - val_loss: 0.0256\n",
      "Epoch 23/100\n",
      "\u001b[1m228/228\u001b[0m \u001b[32m━━━━━━━━━━━━━━━━━━━━\u001b[0m\u001b[37m\u001b[0m \u001b[1m1s\u001b[0m 6ms/step - accuracy: 0.9863 - loss: 0.0382 - val_accuracy: 0.9940 - val_loss: 0.0203\n",
      "Epoch 24/100\n",
      "\u001b[1m228/228\u001b[0m \u001b[32m━━━━━━━━━━━━━━━━━━━━\u001b[0m\u001b[37m\u001b[0m \u001b[1m1s\u001b[0m 5ms/step - accuracy: 0.9875 - loss: 0.0313 - val_accuracy: 0.9874 - val_loss: 0.0305\n",
      "Epoch 25/100\n",
      "\u001b[1m228/228\u001b[0m \u001b[32m━━━━━━━━━━━━━━━━━━━━\u001b[0m\u001b[37m\u001b[0m \u001b[1m1s\u001b[0m 6ms/step - accuracy: 0.9874 - loss: 0.0346 - val_accuracy: 0.9912 - val_loss: 0.0202\n",
      "Epoch 26/100\n",
      "\u001b[1m228/228\u001b[0m \u001b[32m━━━━━━━━━━━━━━━━━━━━\u001b[0m\u001b[37m\u001b[0m \u001b[1m1s\u001b[0m 6ms/step - accuracy: 0.9888 - loss: 0.0302 - val_accuracy: 0.9912 - val_loss: 0.0186\n",
      "Epoch 27/100\n",
      "\u001b[1m228/228\u001b[0m \u001b[32m━━━━━━━━━━━━━━━━━━━━\u001b[0m\u001b[37m\u001b[0m \u001b[1m1s\u001b[0m 6ms/step - accuracy: 0.9874 - loss: 0.0324 - val_accuracy: 0.9874 - val_loss: 0.0256\n",
      "Epoch 28/100\n",
      "\u001b[1m228/228\u001b[0m \u001b[32m━━━━━━━━━━━━━━━━━━━━\u001b[0m\u001b[37m\u001b[0m \u001b[1m1s\u001b[0m 6ms/step - accuracy: 0.9894 - loss: 0.0303 - val_accuracy: 0.9918 - val_loss: 0.0222\n",
      "Epoch 29/100\n",
      "\u001b[1m228/228\u001b[0m \u001b[32m━━━━━━━━━━━━━━━━━━━━\u001b[0m\u001b[37m\u001b[0m \u001b[1m1s\u001b[0m 6ms/step - accuracy: 0.9881 - loss: 0.0318 - val_accuracy: 0.9956 - val_loss: 0.0163\n",
      "Epoch 30/100\n",
      "\u001b[1m228/228\u001b[0m \u001b[32m━━━━━━━━━━━━━━━━━━━━\u001b[0m\u001b[37m\u001b[0m \u001b[1m3s\u001b[0m 6ms/step - accuracy: 0.9892 - loss: 0.0290 - val_accuracy: 0.9934 - val_loss: 0.0163\n",
      "Epoch 31/100\n",
      "\u001b[1m228/228\u001b[0m \u001b[32m━━━━━━━━━━━━━━━━━━━━\u001b[0m\u001b[37m\u001b[0m \u001b[1m1s\u001b[0m 6ms/step - accuracy: 0.9907 - loss: 0.0270 - val_accuracy: 0.9907 - val_loss: 0.0221\n",
      "Epoch 32/100\n",
      "\u001b[1m228/228\u001b[0m \u001b[32m━━━━━━━━━━━━━━━━━━━━\u001b[0m\u001b[37m\u001b[0m \u001b[1m1s\u001b[0m 6ms/step - accuracy: 0.9897 - loss: 0.0263 - val_accuracy: 0.9885 - val_loss: 0.0253\n",
      "Epoch 33/100\n",
      "\u001b[1m228/228\u001b[0m \u001b[32m━━━━━━━━━━━━━━━━━━━━\u001b[0m\u001b[37m\u001b[0m \u001b[1m1s\u001b[0m 5ms/step - accuracy: 0.9910 - loss: 0.0261 - val_accuracy: 0.9907 - val_loss: 0.0203\n",
      "Epoch 34/100\n",
      "\u001b[1m228/228\u001b[0m \u001b[32m━━━━━━━━━━━━━━━━━━━━\u001b[0m\u001b[37m\u001b[0m \u001b[1m1s\u001b[0m 5ms/step - accuracy: 0.9904 - loss: 0.0242 - val_accuracy: 0.9923 - val_loss: 0.0193\n",
      "Epoch 35/100\n",
      "\u001b[1m228/228\u001b[0m \u001b[32m━━━━━━━━━━━━━━━━━━━━\u001b[0m\u001b[37m\u001b[0m \u001b[1m1s\u001b[0m 5ms/step - accuracy: 0.9903 - loss: 0.0282 - val_accuracy: 0.9918 - val_loss: 0.0217\n",
      "Epoch 36/100\n",
      "\u001b[1m228/228\u001b[0m \u001b[32m━━━━━━━━━━━━━━━━━━━━\u001b[0m\u001b[37m\u001b[0m \u001b[1m1s\u001b[0m 5ms/step - accuracy: 0.9912 - loss: 0.0217 - val_accuracy: 0.9940 - val_loss: 0.0163\n",
      "Epoch 37/100\n",
      "\u001b[1m228/228\u001b[0m \u001b[32m━━━━━━━━━━━━━━━━━━━━\u001b[0m\u001b[37m\u001b[0m \u001b[1m1s\u001b[0m 5ms/step - accuracy: 0.9904 - loss: 0.0224 - val_accuracy: 0.9901 - val_loss: 0.0206\n",
      "Epoch 38/100\n",
      "\u001b[1m228/228\u001b[0m \u001b[32m━━━━━━━━━━━━━━━━━━━━\u001b[0m\u001b[37m\u001b[0m \u001b[1m1s\u001b[0m 5ms/step - accuracy: 0.9910 - loss: 0.0241 - val_accuracy: 0.9874 - val_loss: 0.0260\n",
      "Epoch 39/100\n",
      "\u001b[1m228/228\u001b[0m \u001b[32m━━━━━━━━━━━━━━━━━━━━\u001b[0m\u001b[37m\u001b[0m \u001b[1m1s\u001b[0m 5ms/step - accuracy: 0.9911 - loss: 0.0226 - val_accuracy: 0.9923 - val_loss: 0.0199\n"
     ]
    }
   ],
   "source": [
    "print(\"\\n🧠 Training Dense MLP Model on Flipkart Dataset...\")\n",
    "history = model.fit(\n",
    "    X_train, y_train,\n",
    "    validation_split=0.2,\n",
    "    epochs=100,\n",
    "    batch_size=32,\n",
    "    callbacks=[early_stop],\n",
    "    verbose=1\n",
    ")"
   ]
  },
  {
   "cell_type": "code",
   "execution_count": 15,
   "id": "5a00819a",
   "metadata": {},
   "outputs": [
    {
     "name": "stdout",
     "output_type": "stream",
     "text": [
      "\u001b[1m72/72\u001b[0m \u001b[32m━━━━━━━━━━━━━━━━━━━━\u001b[0m\u001b[37m\u001b[0m \u001b[1m1s\u001b[0m 10ms/step\n"
     ]
    }
   ],
   "source": [
    "# -----------------------------#\n",
    "# Step 6: Model Evaluation\n",
    "# -----------------------------#\n",
    "y_pred_prob = model.predict(X_test)\n",
    "y_pred = (y_pred_prob > 0.5).astype(int)\n",
    "\n",
    "acc = accuracy_score(y_test, y_pred)\n",
    "prec = precision_score(y_test, y_pred, zero_division=0)\n",
    "rec = recall_score(y_test, y_pred, zero_division=0)\n",
    "f1 = f1_score(y_test, y_pred, zero_division=0)\n",
    "fpr, tpr, _ = roc_curve(y_test, y_pred_prob)\n",
    "roc_auc = auc(fpr, tpr)"
   ]
  },
  {
   "cell_type": "code",
   "execution_count": 16,
   "id": "b12fa168",
   "metadata": {},
   "outputs": [
    {
     "name": "stdout",
     "output_type": "stream",
     "text": [
      "\n",
      "✅ Model Performance:\n",
      "Accuracy: 0.9952\n",
      "Precision: 0.9947\n",
      "Recall: 0.9956\n",
      "F1 Score: 0.9952\n",
      "AUC: 0.9998\n"
     ]
    }
   ],
   "source": [
    "print(\"\\n✅ Model Performance:\")\n",
    "print(f\"Accuracy: {acc:.4f}\")\n",
    "print(f\"Precision: {prec:.4f}\")\n",
    "print(f\"Recall: {rec:.4f}\")\n",
    "print(f\"F1 Score: {f1:.4f}\")\n",
    "print(f\"AUC: {roc_auc:.4f}\")"
   ]
  },
  {
   "cell_type": "code",
   "execution_count": 17,
   "id": "a7f82e73",
   "metadata": {},
   "outputs": [
    {
     "data": {
      "image/png": "[encoded data removed]",
      "text/plain": [
       "<Figure size 600x400 with 2 Axes>"
      ]
     },
     "metadata": {},
     "output_type": "display_data"
    }
   ],
   "source": [
    "# -----------------------------#\n",
    "# Step 7: Visualizations\n",
    "# -----------------------------#\n",
    "cm = confusion_matrix(y_test, y_pred)\n",
    "plt.figure(figsize=(6,4))\n",
    "sns.heatmap(cm, annot=True, fmt='d', cmap='Purples')\n",
    "plt.title(\"Confusion Matrix — Flipkart Supply Chain Efficiency\")\n",
    "plt.xlabel(\"Predicted\")\n",
    "plt.ylabel(\"Actual\")\n",
    "plt.show()"
   ]
  },
  {
   "cell_type": "code",
   "execution_count": 18,
   "id": "dae11308",
   "metadata": {},
   "outputs": [
    {
     "data": {
      "image/png": "[encoded data removed]",
      "text/plain": [
       "<Figure size 700x500 with 1 Axes>"
      ]
     },
     "metadata": {},
     "output_type": "display_data"
    }
   ],
   "source": [
    "plt.figure(figsize=(7,5))\n",
    "plt.plot(fpr, tpr, label=f\"AUC = {roc_auc:.2f}\")\n",
    "plt.plot([0,1],[0,1],'--', color='gray')\n",
    "plt.title(\"ROC Curve — Flipkart Efficiency Model\")\n",
    "plt.xlabel(\"False Positive Rate\")\n",
    "plt.ylabel(\"True Positive Rate\")\n",
    "plt.legend()\n",
    "plt.show()\n"
   ]
  },
  {
   "cell_type": "code",
   "execution_count": 19,
   "id": "6c88ba19",
   "metadata": {},
   "outputs": [
    {
     "name": "stderr",
     "output_type": "stream",
     "text": [
      "WARNING:absl:You are saving your model as an HDF5 file via `model.save()` or `keras.saving.save_model(model)`. This file format is considered legacy. We recommend using instead the native Keras format, e.g. `model.save('my_model.keras')` or `keras.saving.save_model(model, 'my_model.keras')`. \n"
     ]
    },
    {
     "data": {
      "text/plain": [
       "['results/Flipkart_Scaler.pkl']"
      ]
     },
     "execution_count": 19,
     "metadata": {},
     "output_type": "execute_result"
    }
   ],
   "source": [
    "# -----------------------------#\n",
    "# Step 8: Save Model, Scaler, Results\n",
    "# -----------------------------#\n",
    "\n",
    "model.save(\"results/Flipkart_DenseMLP_Model.h5\")\n",
    "joblib.dump(scaler, \"results/Flipkart_Scaler.pkl\")"
   ]
  },
  {
   "cell_type": "code",
   "execution_count": 20,
   "id": "fb478632",
   "metadata": {},
   "outputs": [],
   "source": [
    "results = {\n",
    "    \"accuracy\": float(acc),\n",
    "    \"precision\": float(prec),\n",
    "    \"recall\": float(rec),\n",
    "    \"f1_score\": float(f1),\n",
    "    \"roc_auc\": float(roc_auc),\n",
    "    \"total_records\": len(data),\n",
    "    \"efficient_count\": int(data['efficiency_label'].sum()),\n",
    "    \"inefficient_count\": int(len(data) - data['efficiency_label'].sum())\n",
    "}"
   ]
  },
  {
   "cell_type": "code",
   "execution_count": 21,
   "id": "20a24436",
   "metadata": {},
   "outputs": [],
   "source": [
    "with open(\"results/model_metrics_Flipkart.json\", \"w\") as f:\n",
    "    json.dump(results, f, indent=4)"
   ]
  },
  {
   "cell_type": "code",
   "execution_count": null,
   "id": "94fc9d12",
   "metadata": {},
   "outputs": [],
   "source": []
  }
 ],
 "metadata": {
  "kernelspec": {
   "display_name": ".venv (3.13.5)",
   "language": "python",
   "name": "python3"
  },
  "language_info": {
   "codemirror_mode": {
    "name": "ipython",
    "version": 3
   },
   "file_extension": ".py",
   "mimetype": "text/x-python",
   "name": "python",
   "nbconvert_exporter": "python",
   "pygments_lexer": "ipython3",
   "version": "3.13.5"
  }
 },
 "nbformat": 4,
 "nbformat_minor": 5
}
